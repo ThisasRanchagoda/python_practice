{
  "nbformat": 4,
  "nbformat_minor": 0,
  "metadata": {
    "colab": {
      "provenance": [],
      "authorship_tag": "ABX9TyOYHRc4+NWXtD8+UcSjcc2H",
      "include_colab_link": true
    },
    "kernelspec": {
      "name": "python3",
      "display_name": "Python 3"
    },
    "language_info": {
      "name": "python"
    }
  },
  "cells": [
    {
      "cell_type": "markdown",
      "metadata": {
        "id": "view-in-github",
        "colab_type": "text"
      },
      "source": [
        "<a href=\"https://colab.research.google.com/github/ThisasRanchagoda/python_practice/blob/main/py_prac.ipynb\" target=\"_parent\"><img src=\"https://colab.research.google.com/assets/colab-badge.svg\" alt=\"Open In Colab\"/></a>"
      ]
    },
    {
      "cell_type": "code",
      "execution_count": 1,
      "metadata": {
        "id": "8CyEPUIKcaqk",
        "colab": {
          "base_uri": "https://localhost:8080/"
        },
        "outputId": "c7d0f117-2675-4726-b2ce-8e43bd6032de"
      },
      "outputs": [
        {
          "output_type": "stream",
          "name": "stdout",
          "text": [
            "hello\n"
          ]
        }
      ],
      "source": [
        "print('hello')"
      ]
    },
    {
      "cell_type": "code",
      "source": [
        "x=5\n",
        "x"
      ],
      "metadata": {
        "colab": {
          "base_uri": "https://localhost:8080/"
        },
        "id": "73mAlaTmdWtj",
        "outputId": "7a1ab2b9-487e-4b42-da02-fa65733c5571"
      },
      "execution_count": 2,
      "outputs": [
        {
          "output_type": "execute_result",
          "data": {
            "text/plain": [
              "5"
            ]
          },
          "metadata": {},
          "execution_count": 2
        }
      ]
    },
    {
      "cell_type": "code",
      "source": [
        "name='ryan'"
      ],
      "metadata": {
        "id": "699dCOzedvgz"
      },
      "execution_count": 3,
      "outputs": []
    },
    {
      "cell_type": "code",
      "source": [
        "type(name)"
      ],
      "metadata": {
        "colab": {
          "base_uri": "https://localhost:8080/"
        },
        "id": "c0vF4hYFdxih",
        "outputId": "4fee203b-4ff0-43ad-819c-118108994078"
      },
      "execution_count": 4,
      "outputs": [
        {
          "output_type": "execute_result",
          "data": {
            "text/plain": [
              "str"
            ]
          },
          "metadata": {},
          "execution_count": 4
        }
      ]
    },
    {
      "cell_type": "code",
      "source": [
        "type(x)"
      ],
      "metadata": {
        "colab": {
          "base_uri": "https://localhost:8080/"
        },
        "id": "JmPOxCoTdzSZ",
        "outputId": "aec7c472-76fa-4e92-aace-f3a2cee99daa"
      },
      "execution_count": 5,
      "outputs": [
        {
          "output_type": "execute_result",
          "data": {
            "text/plain": [
              "int"
            ]
          },
          "metadata": {},
          "execution_count": 5
        }
      ]
    },
    {
      "cell_type": "code",
      "source": [
        "type(1.34)"
      ],
      "metadata": {
        "colab": {
          "base_uri": "https://localhost:8080/"
        },
        "id": "3_us_bdOd39J",
        "outputId": "cbb88cf4-e07d-4eec-9878-8e121e6a56fb"
      },
      "execution_count": 6,
      "outputs": [
        {
          "output_type": "execute_result",
          "data": {
            "text/plain": [
              "float"
            ]
          },
          "metadata": {},
          "execution_count": 6
        }
      ]
    },
    {
      "cell_type": "code",
      "source": [
        "type(2j)"
      ],
      "metadata": {
        "colab": {
          "base_uri": "https://localhost:8080/"
        },
        "id": "ED--g2UFeNtG",
        "outputId": "6c08bb06-f5a4-4847-ba0c-0eb4b8b3eaa6"
      },
      "execution_count": 7,
      "outputs": [
        {
          "output_type": "execute_result",
          "data": {
            "text/plain": [
              "complex"
            ]
          },
          "metadata": {},
          "execution_count": 7
        }
      ]
    },
    {
      "cell_type": "code",
      "source": [
        "2j+3j"
      ],
      "metadata": {
        "colab": {
          "base_uri": "https://localhost:8080/"
        },
        "id": "Ee1yE3UIeP6X",
        "outputId": "c2ef10d2-7cf7-44b3-8f18-6f1533d0f873"
      },
      "execution_count": 8,
      "outputs": [
        {
          "output_type": "execute_result",
          "data": {
            "text/plain": [
              "5j"
            ]
          },
          "metadata": {},
          "execution_count": 8
        }
      ]
    },
    {
      "cell_type": "code",
      "source": [
        "1j*3j"
      ],
      "metadata": {
        "colab": {
          "base_uri": "https://localhost:8080/"
        },
        "id": "hPMHxQ_ieT--",
        "outputId": "f7ad8b2e-c86e-4fdf-f283-681ba40f26f7"
      },
      "execution_count": 9,
      "outputs": [
        {
          "output_type": "execute_result",
          "data": {
            "text/plain": [
              "(-3+0j)"
            ]
          },
          "metadata": {},
          "execution_count": 9
        }
      ]
    },
    {
      "cell_type": "code",
      "source": [
        "'string1'+'string 2'"
      ],
      "metadata": {
        "colab": {
          "base_uri": "https://localhost:8080/",
          "height": 35
        },
        "id": "Dcj0y2mGeZTj",
        "outputId": "856e55b4-4c05-47b0-e9e3-ab3aac515364"
      },
      "execution_count": 10,
      "outputs": [
        {
          "output_type": "execute_result",
          "data": {
            "text/plain": [
              "'string1string 2'"
            ],
            "application/vnd.google.colaboratory.intrinsic+json": {
              "type": "string"
            }
          },
          "metadata": {},
          "execution_count": 10
        }
      ]
    },
    {
      "cell_type": "code",
      "source": [
        "my_list=[2,45,3,2,3,]\n",
        "my_list"
      ],
      "metadata": {
        "colab": {
          "base_uri": "https://localhost:8080/"
        },
        "id": "c1oMxgWSepr3",
        "outputId": "0ea62d6f-4072-4b4f-de17-e9ccc6db2f02"
      },
      "execution_count": 11,
      "outputs": [
        {
          "output_type": "execute_result",
          "data": {
            "text/plain": [
              "[2, 45, 3, 2, 3]"
            ]
          },
          "metadata": {},
          "execution_count": 11
        }
      ]
    },
    {
      "cell_type": "code",
      "source": [
        "my_list2=[[2,3,4],['hello','put'],[23]]\n",
        "my_list2\n",
        "len(my_list2)"
      ],
      "metadata": {
        "colab": {
          "base_uri": "https://localhost:8080/"
        },
        "id": "_lPtd3xPfeTF",
        "outputId": "f127223d-9411-43ac-9e98-71cb29442469"
      },
      "execution_count": 14,
      "outputs": [
        {
          "output_type": "execute_result",
          "data": {
            "text/plain": [
              "3"
            ]
          },
          "metadata": {},
          "execution_count": 14
        }
      ]
    },
    {
      "cell_type": "markdown",
      "source": [
        "sets (no duplicated allowed)"
      ],
      "metadata": {
        "id": "xgt05Uq7gHzI"
      }
    },
    {
      "cell_type": "code",
      "source": [
        "my_set={1,3,4,4,}\n",
        "my_set"
      ],
      "metadata": {
        "colab": {
          "base_uri": "https://localhost:8080/"
        },
        "id": "WN8PiwYgf6CM",
        "outputId": "b8fada1d-5687-421f-d023-29195b3afdc2"
      },
      "execution_count": 15,
      "outputs": [
        {
          "output_type": "execute_result",
          "data": {
            "text/plain": [
              "{1, 3, 4}"
            ]
          },
          "metadata": {},
          "execution_count": 15
        }
      ]
    },
    {
      "cell_type": "code",
      "source": [
        "type(my_set)"
      ],
      "metadata": {
        "colab": {
          "base_uri": "https://localhost:8080/"
        },
        "id": "OtbVCCxwgbRs",
        "outputId": "051e1486-5a81-4d99-fca8-aff0763f083b"
      },
      "execution_count": 16,
      "outputs": [
        {
          "output_type": "execute_result",
          "data": {
            "text/plain": [
              "set"
            ]
          },
          "metadata": {},
          "execution_count": 16
        }
      ]
    },
    {
      "cell_type": "code",
      "source": [
        "len(my_set)"
      ],
      "metadata": {
        "colab": {
          "base_uri": "https://localhost:8080/"
        },
        "id": "wrRYLDeFgiJN",
        "outputId": "fd56bd88-0410-4b9b-e272-90202c9c3cad"
      },
      "execution_count": 17,
      "outputs": [
        {
          "output_type": "execute_result",
          "data": {
            "text/plain": [
              "3"
            ]
          },
          "metadata": {},
          "execution_count": 17
        }
      ]
    },
    {
      "cell_type": "code",
      "source": [],
      "metadata": {
        "id": "aBUm6hr9glzE"
      },
      "execution_count": null,
      "outputs": []
    },
    {
      "cell_type": "markdown",
      "source": [
        "tuples (cant append values) cannot modify"
      ],
      "metadata": {
        "id": "vRdc_V7FhE0N"
      }
    },
    {
      "cell_type": "code",
      "source": [
        "my_tuple = (1,3,3,4,)\n",
        "my_tuple"
      ],
      "metadata": {
        "colab": {
          "base_uri": "https://localhost:8080/"
        },
        "id": "4nHW8XbbhJZH",
        "outputId": "f24ebedb-c412-4008-a00b-ddb89c76b5a6"
      },
      "execution_count": 19,
      "outputs": [
        {
          "output_type": "execute_result",
          "data": {
            "text/plain": [
              "(1, 3, 3, 4)"
            ]
          },
          "metadata": {},
          "execution_count": 19
        }
      ]
    },
    {
      "cell_type": "markdown",
      "source": [
        "dictoniries"
      ],
      "metadata": {
        "id": "J6sSmN7Qh810"
      }
    },
    {
      "cell_type": "code",
      "source": [
        "my_dictionary= {\n",
        "    'apple':'a red fruit',\n",
        "    'ball ': 'a ball'\n",
        "}\n",
        "\n",
        "my_dictionary['apple']"
      ],
      "metadata": {
        "colab": {
          "base_uri": "https://localhost:8080/",
          "height": 35
        },
        "id": "z_ndY_Ith6-2",
        "outputId": "321b9582-81c8-4dea-843d-482203793c91"
      },
      "execution_count": 21,
      "outputs": [
        {
          "output_type": "execute_result",
          "data": {
            "text/plain": [
              "'a red fruit'"
            ],
            "application/vnd.google.colaboratory.intrinsic+json": {
              "type": "string"
            }
          },
          "metadata": {},
          "execution_count": 21
        }
      ]
    },
    {
      "cell_type": "markdown",
      "source": [
        "operators"
      ],
      "metadata": {
        "id": "ZH-1la5HjcAv"
      }
    },
    {
      "cell_type": "code",
      "source": [
        "1+1"
      ],
      "metadata": {
        "colab": {
          "base_uri": "https://localhost:8080/"
        },
        "id": "9En7uj7Hhdij",
        "outputId": "fb8ad73d-1b71-4a6d-8527-6484a6c9f680"
      },
      "execution_count": 22,
      "outputs": [
        {
          "output_type": "execute_result",
          "data": {
            "text/plain": [
              "2"
            ]
          },
          "metadata": {},
          "execution_count": 22
        }
      ]
    },
    {
      "cell_type": "code",
      "source": [
        "2*2"
      ],
      "metadata": {
        "colab": {
          "base_uri": "https://localhost:8080/"
        },
        "id": "dqM-XYwxjf-N",
        "outputId": "af92afc1-e06b-4119-ccc5-369e81c02449"
      },
      "execution_count": 23,
      "outputs": [
        {
          "output_type": "execute_result",
          "data": {
            "text/plain": [
              "4"
            ]
          },
          "metadata": {},
          "execution_count": 23
        }
      ]
    },
    {
      "cell_type": "code",
      "source": [
        "3**2"
      ],
      "metadata": {
        "colab": {
          "base_uri": "https://localhost:8080/"
        },
        "id": "jRpdEgEzji2w",
        "outputId": "3b40fbbc-6644-436d-cf27-0a60513224d3"
      },
      "execution_count": 24,
      "outputs": [
        {
          "output_type": "execute_result",
          "data": {
            "text/plain": [
              "9"
            ]
          },
          "metadata": {},
          "execution_count": 24
        }
      ]
    },
    {
      "cell_type": "code",
      "source": [
        "20/6"
      ],
      "metadata": {
        "colab": {
          "base_uri": "https://localhost:8080/"
        },
        "id": "f9hXBueejnDO",
        "outputId": "336e7e40-1e7e-402d-fa38-77fc502105ca"
      },
      "execution_count": 25,
      "outputs": [
        {
          "output_type": "execute_result",
          "data": {
            "text/plain": [
              "3.3333333333333335"
            ]
          },
          "metadata": {},
          "execution_count": 25
        }
      ]
    },
    {
      "cell_type": "code",
      "source": [
        "20%6\n"
      ],
      "metadata": {
        "colab": {
          "base_uri": "https://localhost:8080/"
        },
        "id": "XQ9Q9m4Cjpaz",
        "outputId": "5d9a942e-9108-493e-b666-4a82cbca6b61"
      },
      "execution_count": 26,
      "outputs": [
        {
          "output_type": "execute_result",
          "data": {
            "text/plain": [
              "2"
            ]
          },
          "metadata": {},
          "execution_count": 26
        }
      ]
    },
    {
      "cell_type": "markdown",
      "source": [
        "logical operators"
      ],
      "metadata": {
        "id": "-P0WmpAvkPLO"
      }
    },
    {
      "cell_type": "code",
      "source": [
        "True and True"
      ],
      "metadata": {
        "colab": {
          "base_uri": "https://localhost:8080/"
        },
        "id": "QzzMpfFFjs2s",
        "outputId": "0dd6b8bf-729b-46fc-a943-b608dbe4afd3"
      },
      "execution_count": 27,
      "outputs": [
        {
          "output_type": "execute_result",
          "data": {
            "text/plain": [
              "True"
            ]
          },
          "metadata": {},
          "execution_count": 27
        }
      ]
    },
    {
      "cell_type": "code",
      "source": [
        "True or False"
      ],
      "metadata": {
        "colab": {
          "base_uri": "https://localhost:8080/"
        },
        "id": "nY3jnNchkTwg",
        "outputId": "facd929a-37f3-4c31-bf6e-53f08417a35b"
      },
      "execution_count": 28,
      "outputs": [
        {
          "output_type": "execute_result",
          "data": {
            "text/plain": [
              "True"
            ]
          },
          "metadata": {},
          "execution_count": 28
        }
      ]
    },
    {
      "cell_type": "code",
      "source": [
        "not True"
      ],
      "metadata": {
        "colab": {
          "base_uri": "https://localhost:8080/"
        },
        "id": "bnw7Bb9dkW1U",
        "outputId": "a2c52487-e384-4790-98f0-a3877ff2d835"
      },
      "execution_count": 29,
      "outputs": [
        {
          "output_type": "execute_result",
          "data": {
            "text/plain": [
              "False"
            ]
          },
          "metadata": {},
          "execution_count": 29
        }
      ]
    },
    {
      "cell_type": "code",
      "source": [
        "2 in [3,2,4,2]"
      ],
      "metadata": {
        "colab": {
          "base_uri": "https://localhost:8080/"
        },
        "id": "ZCl3LmfMkamU",
        "outputId": "a91e669e-2bc3-4c14-988f-b125491a573c"
      },
      "execution_count": 30,
      "outputs": [
        {
          "output_type": "execute_result",
          "data": {
            "text/plain": [
              "True"
            ]
          },
          "metadata": {},
          "execution_count": 30
        }
      ]
    },
    {
      "cell_type": "code",
      "source": [
        "'cat' in 'hello catins'"
      ],
      "metadata": {
        "colab": {
          "base_uri": "https://localhost:8080/"
        },
        "id": "VI5G6ehakzTC",
        "outputId": "bf8f4107-e56e-4c64-af5e-07ddc547a3d4"
      },
      "execution_count": 31,
      "outputs": [
        {
          "output_type": "execute_result",
          "data": {
            "text/plain": [
              "True"
            ]
          },
          "metadata": {},
          "execution_count": 31
        }
      ]
    },
    {
      "cell_type": "markdown",
      "source": [
        "CONTROL FLOW"
      ],
      "metadata": {
        "id": "lKqMJJxGk99i"
      }
    },
    {
      "cell_type": "markdown",
      "source": [
        "IF/ELSE statements"
      ],
      "metadata": {
        "id": "lnbuez4elDRM"
      }
    },
    {
      "cell_type": "code",
      "source": [
        "a= False\n",
        "b= True\n",
        "if a or b:\n",
        "  print('a is true ')\n",
        "else:\n",
        "  print('a is false')"
      ],
      "metadata": {
        "colab": {
          "base_uri": "https://localhost:8080/"
        },
        "id": "J1syg--Vk4De",
        "outputId": "6bfdd5a8-a48a-4504-b546-78066ca5dcaa"
      },
      "execution_count": 34,
      "outputs": [
        {
          "output_type": "stream",
          "name": "stdout",
          "text": [
            "a is true \n"
          ]
        }
      ]
    },
    {
      "cell_type": "markdown",
      "source": [
        "for loops\n",
        "has to be iterable eg(list is iterable)"
      ],
      "metadata": {
        "id": "iqK-qszlnFt1"
      }
    },
    {
      "cell_type": "code",
      "source": [
        "a=[3,5,3,2,4]\n",
        "for item in a:\n",
        "  print(item)"
      ],
      "metadata": {
        "colab": {
          "base_uri": "https://localhost:8080/"
        },
        "id": "dd-3f-b6mvKL",
        "outputId": "cab984b3-ec56-4dbd-d5b1-bb2dd61f53bb"
      },
      "execution_count": 35,
      "outputs": [
        {
          "output_type": "stream",
          "name": "stdout",
          "text": [
            "3\n",
            "5\n",
            "3\n",
            "2\n",
            "4\n"
          ]
        }
      ]
    },
    {
      "cell_type": "markdown",
      "source": [
        "While loop doesnt iterate it keeps iterating until something is false"
      ],
      "metadata": {
        "id": "GTYlK6IJoBob"
      }
    },
    {
      "cell_type": "code",
      "source": [
        "a=0\n",
        "while a<5:\n",
        "  print(a)\n",
        "  a=a+1"
      ],
      "metadata": {
        "colab": {
          "base_uri": "https://localhost:8080/"
        },
        "id": "hvCoIx5qnX9C",
        "outputId": "40b14d8e-f5ef-4589-bfb0-4435adfd88f0"
      },
      "execution_count": 36,
      "outputs": [
        {
          "output_type": "stream",
          "name": "stdout",
          "text": [
            "0\n",
            "1\n",
            "2\n",
            "3\n",
            "4\n"
          ]
        }
      ]
    },
    {
      "cell_type": "markdown",
      "source": [
        "FUNCTIONS"
      ],
      "metadata": {
        "id": "hLEika89pQOF"
      }
    },
    {
      "cell_type": "code",
      "source": [
        "def multiply(val1,val2):\n",
        "  return val1*val2\n",
        "\n",
        "multiply(3,2)"
      ],
      "metadata": {
        "colab": {
          "base_uri": "https://localhost:8080/"
        },
        "id": "BL5va5wcoeQ1",
        "outputId": "63bb2dc7-b37b-4d6b-c8d7-f9ebf560d4fc"
      },
      "execution_count": 37,
      "outputs": [
        {
          "output_type": "execute_result",
          "data": {
            "text/plain": [
              "6"
            ]
          },
          "metadata": {},
          "execution_count": 37
        }
      ]
    },
    {
      "cell_type": "code",
      "source": [
        "a=[3,4,6,5]\n",
        "\n",
        "def append_five(my_list):\n",
        "  my_list.append(5)\n",
        "\n",
        "append_five(a)\n",
        "print(a)"
      ],
      "metadata": {
        "colab": {
          "base_uri": "https://localhost:8080/"
        },
        "id": "UQ0hxk5LpgI_",
        "outputId": "d09726de-0187-41bb-c491-3d2b5468aeb1"
      },
      "execution_count": 38,
      "outputs": [
        {
          "output_type": "stream",
          "name": "stdout",
          "text": [
            "[3, 4, 6, 5, 5]\n"
          ]
        }
      ]
    },
    {
      "cell_type": "code",
      "source": [
        "class dog:\n",
        "  def __init__(self,name):#intialize dog\n",
        "    self.name=name\n",
        "    self.age=4\n",
        "  def bark(self): #function of a dog\n",
        "    print(self.name  +  'woof')\n",
        "\n"
      ],
      "metadata": {
        "id": "zRELX-hoqEvA"
      },
      "execution_count": 47,
      "outputs": []
    },
    {
      "cell_type": "code",
      "source": [
        "my_dog=dog('fluffy')\n",
        "my_dog.bark()\n",
        "\n",
        "my_anotherdog=dog('spot')\n",
        "my_anotherdog.bark()"
      ],
      "metadata": {
        "colab": {
          "base_uri": "https://localhost:8080/"
        },
        "id": "YwWWk4CXrzsp",
        "outputId": "ea3ef34b-9bd2-4c4a-fecc-8b50876424d5"
      },
      "execution_count": 49,
      "outputs": [
        {
          "output_type": "stream",
          "name": "stdout",
          "text": [
            "fluffywoof\n",
            "spotwoof\n"
          ]
        }
      ]
    },
    {
      "cell_type": "code",
      "source": [
        "def factorial(num):\n",
        "  if num==0 or num==1:\n",
        "    return 1\n",
        "  return num*factorial(num-1)\n",
        "\n",
        "factorial(-2)"
      ],
      "metadata": {
        "colab": {
          "base_uri": "https://localhost:8080/"
        },
        "id": "oXGLSNJgr_-J",
        "outputId": "e81d9f29-f891-46ec-d0cc-629ed30c89dc"
      },
      "execution_count": 51,
      "outputs": [
        {
          "output_type": "stream",
          "name": "stderr",
          "text": [
            "ERROR:root:Internal Python error in the inspect module.\n",
            "Below is the traceback from this internal error.\n",
            "\n",
            "\n",
            "KeyboardInterrupt\n",
            "\n"
          ]
        }
      ]
    },
    {
      "cell_type": "code",
      "source": [],
      "metadata": {
        "id": "A3dl8asyr5tO"
      },
      "execution_count": null,
      "outputs": []
    }
  ]
}